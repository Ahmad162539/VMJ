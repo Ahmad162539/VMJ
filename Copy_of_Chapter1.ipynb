{
  "nbformat": 4,
  "nbformat_minor": 0,
  "metadata": {
    "colab": {
      "provenance": [],
      "authorship_tag": "ABX9TyMCYL5lESeLveMcWaHPJjBr",
      "include_colab_link": true
    },
    "kernelspec": {
      "name": "python3",
      "display_name": "Python 3"
    },
    "language_info": {
      "name": "python"
    }
  },
  "cells": [
    {
      "cell_type": "markdown",
      "metadata": {
        "id": "view-in-github",
        "colab_type": "text"
      },
      "source": [
        "<a href=\"https://colab.research.google.com/github/Ahmad162539/VMJ/blob/main/Copy_of_Chapter1.ipynb\" target=\"_parent\"><img src=\"https://colab.research.google.com/assets/colab-badge.svg\" alt=\"Open In Colab\"/></a>"
      ]
    },
    {
      "cell_type": "code",
      "source": [
        "! python --version"
      ],
      "metadata": {
        "colab": {
          "base_uri": "https://localhost:8080/"
        },
        "id": "9OTVqRmxQEn6",
        "outputId": "4a09ef4b-ba64-44d8-9d4e-80784b90e804"
      },
      "execution_count": null,
      "outputs": [
        {
          "output_type": "stream",
          "name": "stdout",
          "text": [
            "Python 3.10.12\n"
          ]
        }
      ]
    },
    {
      "cell_type": "markdown",
      "source": [
        "The three different types of machine learning\n",
        "1- Supervised ML\n",
        "2- Unsupervised ML\n",
        "3- Reinforcement ML"
      ],
      "metadata": {
        "id": "B261o8roLeX4"
      }
    },
    {
      "cell_type": "markdown",
      "source": [
        "There are two main categories of Supervised Learning:\n",
        "\n",
        " 1. Prediction: Predicts a continuous output value based on input features. This is further divided into:\n",
        "\n",
        "Regression: Uses continuous output variables. For example, predicting house prices based on size, location, and amenities.\n",
        "Time Series Forecasting: Predicts future values of a time series based on past data. For example, forecasting stock prices or demand for a product.\n",
        " 2. Classification: Assigns input data to predefined categories based on features. This includes:\n",
        "\n",
        "Binary Classification: Two possible categories (e.g., spam/not spam, cat/dog).\n",
        "Multi-class Classification: More than two categories (e.g., classifying handwritten digits, identifying types of animals)."
      ],
      "metadata": {
        "id": "NO-HngDvLaWf"
      }
    },
    {
      "cell_type": "markdown",
      "source": [],
      "metadata": {
        "id": "ucl5kro2RlEF"
      }
    },
    {
      "cell_type": "markdown",
      "source": [
        "What are different types of unsupervised learning tasks related to categories?\n",
        "\n",
        "Clustering: This task groups unlabeled data points based on similarities, potentially revealing hidden categories within the data. Examples include K-means clustering, hierarchical clustering, and density-based clustering.\n",
        "Anomaly detection: This identifies data points that deviate significantly from the majority, potentially uncovering unusual or unexpected categories.\n",
        "Dimensionality reduction: This reduces the number of features in a dataset, while preserving information about categories or group structures. Examples include Principal Component Analysis (PCA) and Independent Component Analysis (ICA)."
      ],
      "metadata": {
        "id": "DhIYAsK8Q7nd"
      }
    },
    {
      "cell_type": "markdown",
      "source": [
        "Unsupervised and supervised learning are two fundamental approaches to machine learning, each suited for different tasks and requiring different types of data. Here's a breakdown of their key differences:\n",
        "\n",
        " Data:\n",
        "\n",
        "Supervised learning: Uses labeled data, where each data point has a corresponding label or output value. Think of it as having the answer sheet alongside the test paper.\n",
        "Unsupervised learning: Uses unlabeled data, where data points lack predetermined labels or classifications. It's like getting the test paper without the answer sheet.\n",
        " Goals:\n",
        "\n",
        "Supervised learning: Aims to learn a mapping between inputs and outputs. The trained model can then make predictions on new data based on this mapping. Imagine learning the relationship between study hours and exam scores to predict future grades.\n",
        "Unsupervised learning: Aims to discover hidden patterns or structures within the data. This could involve grouping similar data points into clusters, reducing the dimensionality of the data for easier analysis, or detecting anomalies that deviate from the norm. It's like exploring a new room and figuring out how the furniture is arranged without any instructions."
      ],
      "metadata": {
        "id": "bQARL7wRRmK6"
      }
    },
    {
      "cell_type": "markdown",
      "source": [
        "**Supervised** **ML** **Code**"
      ],
      "metadata": {
        "id": "_KpJS5E5RuWY"
      }
    },
    {
      "cell_type": "code",
      "source": [
        "import numpy as np\n",
        "from sklearn.linear_model import LinearRegression\n",
        "\n",
        "# Generate sample data with labels\n",
        "x = np.array([5, 15, 25, 35, 45]).reshape((-1, 1))\n",
        "y = np.array([5, 20, 14, 32, 22])\n",
        "\n",
        "# Create a linear regression model\n",
        "model = LinearRegression()\n",
        "\n",
        "# Train the model on the labeled data\n",
        "model.fit(x, y)\n",
        "\n",
        "# Make predictions on new data\n",
        "new_x = np.array([10, 30]).reshape((-1, 1))\n",
        "predictions = model.predict(new_x)\n",
        "print(predictions)  # Output: [ 12.5  27.5]"
      ],
      "metadata": {
        "colab": {
          "base_uri": "https://localhost:8080/"
        },
        "id": "onxlAmGyQhVH",
        "outputId": "98c27217-8949-499a-fd69-e3fa92da90d0"
      },
      "execution_count": null,
      "outputs": [
        {
          "output_type": "stream",
          "name": "stdout",
          "text": [
            "[11.7 20.9]\n"
          ]
        }
      ]
    },
    {
      "cell_type": "markdown",
      "source": [
        "**Unsupervised ML Code**"
      ],
      "metadata": {
        "id": "Z0ASfZ8tXqNR"
      }
    },
    {
      "cell_type": "code",
      "source": [
        "import numpy as np\n",
        "from sklearn.cluster import KMeans\n",
        "\n",
        "# Generate sample data without labels\n",
        "data = np.array([[1, 2], [1.5, 1.8], [5, 8], [8, 8], [1, 0.6], [9, 11]])\n",
        "\n",
        "# Create a K-Means clustering model with 2 clusters\n",
        "model = KMeans(n_clusters=2)\n",
        "\n",
        "# Find clusters in the unlabeled data\n",
        "model.fit(data)\n",
        "\n",
        "# Get cluster labels for each data point\n",
        "labels = model.labels_\n",
        "print(labels)  # Output: [0 0 1 1 0 1]"
      ],
      "metadata": {
        "colab": {
          "base_uri": "https://localhost:8080/"
        },
        "id": "vYFih--qXyzi",
        "outputId": "61e01e22-0ea2-4873-929a-553e4a47af66"
      },
      "execution_count": null,
      "outputs": [
        {
          "output_type": "stream",
          "name": "stderr",
          "text": [
            "/usr/local/lib/python3.10/dist-packages/sklearn/cluster/_kmeans.py:870: FutureWarning: The default value of `n_init` will change from 10 to 'auto' in 1.4. Set the value of `n_init` explicitly to suppress the warning\n",
            "  warnings.warn(\n"
          ]
        },
        {
          "output_type": "stream",
          "name": "stdout",
          "text": [
            "[0 0 1 1 0 1]\n"
          ]
        }
      ]
    },
    {
      "cell_type": "markdown",
      "source": [
        "**Classification in Supervised Learning: Predicting Class Labels**\n",
        "Here are some key aspects of classification:\n",
        "\n",
        " **Types of Classification Problems:**\n",
        "\n",
        "**Binary classification:** Two possible classes (e.g., email spam or not spam).\n",
        "**Multi-class classification:** More than two distinct classes (e.g., image classification with categories like cat, dog, bird).\n",
        "**Multi-label classification:** A data point can belong to multiple classes (e.g., document classification with topics like sports, politics, and technology).\n",
        " **Popular Classification Algorithms:**\n",
        "\n",
        "**Logistic Regression:** Probabilistic approach for binary classification.\n",
        "**Support Vector Machines (SVM):** Efficiently finds a hyperplane that maximizes the margin between different classes.\n",
        "**Decision Trees:** Tree-like structure where features are used to split data points into different branches based on decision rules.\n",
        "**Random Forests:** Ensemble of decision trees that improves stability and accuracy.\n",
        "**Neural Networks:** Flexible framework capable of learning complex relationships and non-linear boundaries between classes.\n",
        " Evaluation Metrics:"
      ],
      "metadata": {
        "id": "mVJQVUzVNc6N"
      }
    },
    {
      "cell_type": "code",
      "source": [
        "import numpy as np\n",
        "from sklearn import svm\n",
        "from sklearn.datasets import load_iris\n",
        "# Load a sample dataset:\n",
        "iris = load_iris()\n",
        "X = iris.data  # Features\n",
        "y = iris.target  # Class labels\n",
        "print (y)\n",
        "# Create an SVM classifier object\n",
        "clf = svm.SVC(kernel='linear')  # Linear kernel for simplicity\n",
        "#Train the model:\n",
        "clf.fit(X, y)\n",
        "# Make predictions on new data:\n",
        "new_data = [[5.1, 3.5, 1.4, 0.2], [6.4, 3.2, 4.5, 1.5]]  # Example new data points\n",
        "predictions = clf.predict(new_data)\n",
        "print(predictions)\n"
      ],
      "metadata": {
        "colab": {
          "base_uri": "https://localhost:8080/"
        },
        "id": "wpEXXshaQdVA",
        "outputId": "52f470f3-2e83-48fa-85dd-bb46b3a1a706"
      },
      "execution_count": null,
      "outputs": [
        {
          "output_type": "stream",
          "name": "stdout",
          "text": [
            "[0 0 0 0 0 0 0 0 0 0 0 0 0 0 0 0 0 0 0 0 0 0 0 0 0 0 0 0 0 0 0 0 0 0 0 0 0\n",
            " 0 0 0 0 0 0 0 0 0 0 0 0 0 1 1 1 1 1 1 1 1 1 1 1 1 1 1 1 1 1 1 1 1 1 1 1 1\n",
            " 1 1 1 1 1 1 1 1 1 1 1 1 1 1 1 1 1 1 1 1 1 1 1 1 1 1 2 2 2 2 2 2 2 2 2 2 2\n",
            " 2 2 2 2 2 2 2 2 2 2 2 2 2 2 2 2 2 2 2 2 2 2 2 2 2 2 2 2 2 2 2 2 2 2 2 2 2\n",
            " 2 2]\n",
            "[0 1]\n"
          ]
        }
      ]
    },
    {
      "cell_type": "code",
      "source": [
        "# Evaluate model performance (optional):\n",
        "\n",
        "from sklearn.metrics import accuracy_score\n",
        "y_test = y # Load test data with true labels\n",
        "X_test = iris.data\n",
        "predictions = clf.predict(X_test)\n",
        "accuracy = accuracy_score(y_test, predictions)\n",
        "print(\"Accuracy:\", accuracy)"
      ],
      "metadata": {
        "colab": {
          "base_uri": "https://localhost:8080/"
        },
        "id": "FRfONVplRtBq",
        "outputId": "8db60450-aabb-4af1-f6bb-c8f794e0d2e6"
      },
      "execution_count": null,
      "outputs": [
        {
          "output_type": "stream",
          "name": "stdout",
          "text": [
            "Accuracy: 0.9933333333333333\n"
          ]
        }
      ]
    },
    {
      "cell_type": "markdown",
      "source": [
        "**Random Forest:**"
      ],
      "metadata": {
        "id": "acTuiO8UZQiZ"
      }
    },
    {
      "cell_type": "code",
      "source": [
        "import numpy as np\n",
        "from sklearn.ensemble import RandomForestClassifier\n",
        "from sklearn.datasets import load_iris\n",
        "from sklearn.model_selection import train_test_split\n",
        "\n",
        "# Load dataset\n",
        "iris = load_iris()\n",
        "X, y = iris.data, iris.target\n",
        "\n",
        "# Split into training and testing sets\n",
        "X_train, X_test, y_train, y_test = train_test_split(X, y, test_size=0.25)\n",
        "\n",
        "# Create a Random Forest classifier\n",
        "rf_clf = RandomForestClassifier(n_estimators=100)  # 100 decision trees\n",
        "\n",
        "# Train the model\n",
        "rf_clf.fit(X_train, y_train)\n",
        "\n",
        "# Make predictions on new data\n",
        "new_data = [[5.1, 3.5, 1.4, 0.2], [6.4, 3.2, 4.5, 1.5]]\n",
        "predictions = rf_clf.predict(new_data)\n",
        "print(predictions)\n",
        "\n",
        "# Evaluate model performance (optional)\n",
        "accuracy = rf_clf.score(X_test, y_test)\n",
        "print(\"Accuracy:\", accuracy)\n"
      ],
      "metadata": {
        "colab": {
          "base_uri": "https://localhost:8080/"
        },
        "id": "0FAuusbzSgcs",
        "outputId": "71b8003b-60c2-4bb3-8ff5-fe3be64b98e8"
      },
      "execution_count": null,
      "outputs": [
        {
          "output_type": "stream",
          "name": "stdout",
          "text": [
            "[0 1]\n",
            "Accuracy: 0.9473684210526315\n"
          ]
        }
      ]
    },
    {
      "cell_type": "markdown",
      "source": [
        "**Neural Network (using TensorFlow):**"
      ],
      "metadata": {
        "id": "2WrPiCgHZk_N"
      }
    },
    {
      "cell_type": "code",
      "source": [
        "import tensorflow as tf\n",
        "from tensorflow.keras.models import Sequential\n",
        "from tensorflow.keras.layers import Dense\n",
        "\n",
        "# Load dataset (same as above)\n",
        "# ...\n",
        "\n",
        "# Create a sequential neural network model\n",
        "nn_model = Sequential([\n",
        "    Dense(10, activation='relu'),  # Input layer with 10 neurons\n",
        "    Dense(8, activation='relu'),  # Hidden layer\n",
        "    Dense(3, activation='softmax')  # Output layer with 3 neurons for 3 classes\n",
        "])\n",
        "\n",
        "# Compile the model with optimizer and loss function\n",
        "nn_model.compile(optimizer='adam', loss='sparse_categorical_crossentropy', metrics=['accuracy'])\n",
        "\n",
        "# Train the model\n",
        "nn_model.fit(X_train, y_train, epochs=100)\n",
        "\n",
        "# Make predictions on new data\n",
        "predictions = nn_model.predict(new_data)\n",
        "print(predictions.argmax(axis=1))  # Get the most probable class\n",
        "\n",
        "# Evaluate model performance (optional)\n",
        "test_loss, test_acc = nn_model.evaluate(X_test, y_test)\n",
        "print(\"Test accuracy:\", test_acc)"
      ],
      "metadata": {
        "colab": {
          "base_uri": "https://localhost:8080/"
        },
        "id": "zKmiZTgAZ12X",
        "outputId": "dc185e5f-cf67-4a6a-e3e0-4c94ebe17ae9"
      },
      "execution_count": null,
      "outputs": [
        {
          "output_type": "stream",
          "name": "stdout",
          "text": [
            "Epoch 1/100\n",
            "4/4 [==============================] - 2s 10ms/step - loss: 1.3710 - accuracy: 0.3482\n",
            "Epoch 2/100\n",
            "4/4 [==============================] - 0s 7ms/step - loss: 1.3139 - accuracy: 0.3482\n",
            "Epoch 3/100\n",
            "4/4 [==============================] - 0s 6ms/step - loss: 1.2602 - accuracy: 0.3482\n",
            "Epoch 4/100\n",
            "4/4 [==============================] - 0s 7ms/step - loss: 1.2190 - accuracy: 0.3482\n",
            "Epoch 5/100\n",
            "4/4 [==============================] - 0s 5ms/step - loss: 1.1826 - accuracy: 0.3482\n",
            "Epoch 6/100\n",
            "4/4 [==============================] - 0s 5ms/step - loss: 1.1508 - accuracy: 0.3482\n",
            "Epoch 7/100\n",
            "4/4 [==============================] - 0s 6ms/step - loss: 1.1272 - accuracy: 0.3482\n",
            "Epoch 8/100\n",
            "4/4 [==============================] - 0s 6ms/step - loss: 1.1034 - accuracy: 0.3482\n",
            "Epoch 9/100\n",
            "4/4 [==============================] - 0s 7ms/step - loss: 1.0849 - accuracy: 0.3482\n",
            "Epoch 10/100\n",
            "4/4 [==============================] - 0s 6ms/step - loss: 1.0702 - accuracy: 0.3482\n",
            "Epoch 11/100\n",
            "4/4 [==============================] - 0s 5ms/step - loss: 1.0577 - accuracy: 0.3482\n",
            "Epoch 12/100\n",
            "4/4 [==============================] - 0s 6ms/step - loss: 1.0440 - accuracy: 0.3482\n",
            "Epoch 13/100\n",
            "4/4 [==============================] - 0s 6ms/step - loss: 1.0352 - accuracy: 0.3482\n",
            "Epoch 14/100\n",
            "4/4 [==============================] - 0s 6ms/step - loss: 1.0274 - accuracy: 0.3482\n",
            "Epoch 15/100\n",
            "4/4 [==============================] - 0s 6ms/step - loss: 1.0186 - accuracy: 0.3482\n",
            "Epoch 16/100\n",
            "4/4 [==============================] - 0s 5ms/step - loss: 1.0113 - accuracy: 0.3482\n",
            "Epoch 17/100\n",
            "4/4 [==============================] - 0s 5ms/step - loss: 1.0049 - accuracy: 0.3750\n",
            "Epoch 18/100\n",
            "4/4 [==============================] - 0s 7ms/step - loss: 0.9987 - accuracy: 0.4107\n",
            "Epoch 19/100\n",
            "4/4 [==============================] - 0s 5ms/step - loss: 0.9932 - accuracy: 0.5357\n",
            "Epoch 20/100\n",
            "4/4 [==============================] - 0s 6ms/step - loss: 0.9867 - accuracy: 0.6071\n",
            "Epoch 21/100\n",
            "4/4 [==============================] - 0s 5ms/step - loss: 0.9814 - accuracy: 0.6429\n",
            "Epoch 22/100\n",
            "4/4 [==============================] - 0s 7ms/step - loss: 0.9759 - accuracy: 0.6786\n",
            "Epoch 23/100\n",
            "4/4 [==============================] - 0s 5ms/step - loss: 0.9705 - accuracy: 0.6875\n",
            "Epoch 24/100\n",
            "4/4 [==============================] - 0s 5ms/step - loss: 0.9649 - accuracy: 0.7054\n",
            "Epoch 25/100\n",
            "4/4 [==============================] - 0s 6ms/step - loss: 0.9594 - accuracy: 0.7054\n",
            "Epoch 26/100\n",
            "4/4 [==============================] - 0s 6ms/step - loss: 0.9538 - accuracy: 0.7054\n",
            "Epoch 27/100\n",
            "4/4 [==============================] - 0s 7ms/step - loss: 0.9478 - accuracy: 0.7143\n",
            "Epoch 28/100\n",
            "4/4 [==============================] - 0s 6ms/step - loss: 0.9418 - accuracy: 0.7232\n",
            "Epoch 29/100\n",
            "4/4 [==============================] - 0s 5ms/step - loss: 0.9356 - accuracy: 0.7321\n",
            "Epoch 30/100\n",
            "4/4 [==============================] - 0s 8ms/step - loss: 0.9293 - accuracy: 0.7321\n",
            "Epoch 31/100\n",
            "4/4 [==============================] - 0s 6ms/step - loss: 0.9228 - accuracy: 0.7321\n",
            "Epoch 32/100\n",
            "4/4 [==============================] - 0s 6ms/step - loss: 0.9162 - accuracy: 0.7321\n",
            "Epoch 33/100\n",
            "4/4 [==============================] - 0s 6ms/step - loss: 0.9094 - accuracy: 0.7321\n",
            "Epoch 34/100\n",
            "4/4 [==============================] - 0s 8ms/step - loss: 0.9026 - accuracy: 0.7411\n",
            "Epoch 35/100\n",
            "4/4 [==============================] - 0s 7ms/step - loss: 0.8949 - accuracy: 0.7411\n",
            "Epoch 36/100\n",
            "4/4 [==============================] - 0s 7ms/step - loss: 0.8875 - accuracy: 0.7500\n",
            "Epoch 37/100\n",
            "4/4 [==============================] - 0s 6ms/step - loss: 0.8798 - accuracy: 0.7768\n",
            "Epoch 38/100\n",
            "4/4 [==============================] - 0s 6ms/step - loss: 0.8714 - accuracy: 0.8125\n",
            "Epoch 39/100\n",
            "4/4 [==============================] - 0s 6ms/step - loss: 0.8631 - accuracy: 0.8571\n",
            "Epoch 40/100\n",
            "4/4 [==============================] - 0s 6ms/step - loss: 0.8538 - accuracy: 0.8750\n",
            "Epoch 41/100\n",
            "4/4 [==============================] - 0s 5ms/step - loss: 0.8439 - accuracy: 0.8750\n",
            "Epoch 42/100\n",
            "4/4 [==============================] - 0s 6ms/step - loss: 0.8338 - accuracy: 0.8839\n",
            "Epoch 43/100\n",
            "4/4 [==============================] - 0s 5ms/step - loss: 0.8226 - accuracy: 0.8839\n",
            "Epoch 44/100\n",
            "4/4 [==============================] - 0s 4ms/step - loss: 0.8108 - accuracy: 0.9196\n",
            "Epoch 45/100\n",
            "4/4 [==============================] - 0s 5ms/step - loss: 0.7984 - accuracy: 0.9286\n",
            "Epoch 46/100\n",
            "4/4 [==============================] - 0s 5ms/step - loss: 0.7848 - accuracy: 0.9107\n",
            "Epoch 47/100\n",
            "4/4 [==============================] - 0s 4ms/step - loss: 0.7709 - accuracy: 0.9107\n",
            "Epoch 48/100\n",
            "4/4 [==============================] - 0s 4ms/step - loss: 0.7563 - accuracy: 0.9286\n",
            "Epoch 49/100\n",
            "4/4 [==============================] - 0s 4ms/step - loss: 0.7421 - accuracy: 0.9375\n",
            "Epoch 50/100\n",
            "4/4 [==============================] - 0s 5ms/step - loss: 0.7278 - accuracy: 0.9375\n",
            "Epoch 51/100\n",
            "4/4 [==============================] - 0s 4ms/step - loss: 0.7157 - accuracy: 0.9107\n",
            "Epoch 52/100\n",
            "4/4 [==============================] - 0s 4ms/step - loss: 0.7033 - accuracy: 0.9107\n",
            "Epoch 53/100\n",
            "4/4 [==============================] - 0s 4ms/step - loss: 0.6913 - accuracy: 0.9196\n",
            "Epoch 54/100\n",
            "4/4 [==============================] - 0s 4ms/step - loss: 0.6799 - accuracy: 0.9018\n",
            "Epoch 55/100\n",
            "4/4 [==============================] - 0s 4ms/step - loss: 0.6681 - accuracy: 0.9107\n",
            "Epoch 56/100\n",
            "4/4 [==============================] - 0s 4ms/step - loss: 0.6572 - accuracy: 0.9196\n",
            "Epoch 57/100\n",
            "4/4 [==============================] - 0s 4ms/step - loss: 0.6461 - accuracy: 0.9107\n",
            "Epoch 58/100\n",
            "4/4 [==============================] - 0s 4ms/step - loss: 0.6355 - accuracy: 0.9196\n",
            "Epoch 59/100\n",
            "4/4 [==============================] - 0s 5ms/step - loss: 0.6253 - accuracy: 0.9107\n",
            "Epoch 60/100\n",
            "4/4 [==============================] - 0s 4ms/step - loss: 0.6152 - accuracy: 0.9196\n",
            "Epoch 61/100\n",
            "4/4 [==============================] - 0s 5ms/step - loss: 0.6054 - accuracy: 0.9196\n",
            "Epoch 62/100\n",
            "4/4 [==============================] - 0s 4ms/step - loss: 0.5960 - accuracy: 0.9196\n",
            "Epoch 63/100\n",
            "4/4 [==============================] - 0s 4ms/step - loss: 0.5869 - accuracy: 0.9107\n",
            "Epoch 64/100\n",
            "4/4 [==============================] - 0s 4ms/step - loss: 0.5778 - accuracy: 0.9107\n",
            "Epoch 65/100\n",
            "4/4 [==============================] - 0s 6ms/step - loss: 0.5692 - accuracy: 0.9107\n",
            "Epoch 66/100\n",
            "4/4 [==============================] - 0s 5ms/step - loss: 0.5610 - accuracy: 0.9196\n",
            "Epoch 67/100\n",
            "4/4 [==============================] - 0s 4ms/step - loss: 0.5530 - accuracy: 0.9196\n",
            "Epoch 68/100\n",
            "4/4 [==============================] - 0s 6ms/step - loss: 0.5448 - accuracy: 0.9107\n",
            "Epoch 69/100\n",
            "4/4 [==============================] - 0s 4ms/step - loss: 0.5369 - accuracy: 0.9107\n",
            "Epoch 70/100\n",
            "4/4 [==============================] - 0s 5ms/step - loss: 0.5297 - accuracy: 0.9107\n",
            "Epoch 71/100\n",
            "4/4 [==============================] - 0s 5ms/step - loss: 0.5223 - accuracy: 0.9196\n",
            "Epoch 72/100\n",
            "4/4 [==============================] - 0s 5ms/step - loss: 0.5151 - accuracy: 0.9107\n",
            "Epoch 73/100\n",
            "4/4 [==============================] - 0s 4ms/step - loss: 0.5079 - accuracy: 0.9107\n",
            "Epoch 74/100\n",
            "4/4 [==============================] - 0s 4ms/step - loss: 0.5016 - accuracy: 0.9196\n",
            "Epoch 75/100\n",
            "4/4 [==============================] - 0s 4ms/step - loss: 0.4947 - accuracy: 0.9196\n",
            "Epoch 76/100\n",
            "4/4 [==============================] - 0s 4ms/step - loss: 0.4880 - accuracy: 0.9107\n",
            "Epoch 77/100\n",
            "4/4 [==============================] - 0s 4ms/step - loss: 0.4815 - accuracy: 0.9196\n",
            "Epoch 78/100\n",
            "4/4 [==============================] - 0s 4ms/step - loss: 0.4749 - accuracy: 0.9196\n",
            "Epoch 79/100\n",
            "4/4 [==============================] - 0s 4ms/step - loss: 0.4681 - accuracy: 0.9196\n",
            "Epoch 80/100\n",
            "4/4 [==============================] - 0s 4ms/step - loss: 0.4609 - accuracy: 0.9196\n",
            "Epoch 81/100\n",
            "4/4 [==============================] - 0s 4ms/step - loss: 0.4540 - accuracy: 0.9196\n",
            "Epoch 82/100\n",
            "4/4 [==============================] - 0s 4ms/step - loss: 0.4463 - accuracy: 0.9286\n",
            "Epoch 83/100\n",
            "4/4 [==============================] - 0s 4ms/step - loss: 0.4397 - accuracy: 0.9554\n",
            "Epoch 84/100\n",
            "4/4 [==============================] - 0s 4ms/step - loss: 0.4329 - accuracy: 0.9554\n",
            "Epoch 85/100\n",
            "4/4 [==============================] - 0s 4ms/step - loss: 0.4262 - accuracy: 0.9554\n",
            "Epoch 86/100\n",
            "4/4 [==============================] - 0s 4ms/step - loss: 0.4195 - accuracy: 0.9554\n",
            "Epoch 87/100\n",
            "4/4 [==============================] - 0s 4ms/step - loss: 0.4128 - accuracy: 0.9375\n",
            "Epoch 88/100\n",
            "4/4 [==============================] - 0s 4ms/step - loss: 0.4072 - accuracy: 0.9464\n",
            "Epoch 89/100\n",
            "4/4 [==============================] - 0s 4ms/step - loss: 0.4001 - accuracy: 0.9554\n",
            "Epoch 90/100\n",
            "4/4 [==============================] - 0s 4ms/step - loss: 0.3943 - accuracy: 0.9286\n",
            "Epoch 91/100\n",
            "4/4 [==============================] - 0s 4ms/step - loss: 0.3882 - accuracy: 0.9286\n",
            "Epoch 92/100\n",
            "4/4 [==============================] - 0s 4ms/step - loss: 0.3822 - accuracy: 0.9464\n",
            "Epoch 93/100\n",
            "4/4 [==============================] - 0s 4ms/step - loss: 0.3761 - accuracy: 0.9554\n",
            "Epoch 94/100\n",
            "4/4 [==============================] - 0s 6ms/step - loss: 0.3704 - accuracy: 0.9554\n",
            "Epoch 95/100\n",
            "4/4 [==============================] - 0s 4ms/step - loss: 0.3645 - accuracy: 0.9554\n",
            "Epoch 96/100\n",
            "4/4 [==============================] - 0s 4ms/step - loss: 0.3589 - accuracy: 0.9554\n",
            "Epoch 97/100\n",
            "4/4 [==============================] - 0s 4ms/step - loss: 0.3536 - accuracy: 0.9643\n",
            "Epoch 98/100\n",
            "4/4 [==============================] - 0s 4ms/step - loss: 0.3478 - accuracy: 0.9643\n",
            "Epoch 99/100\n",
            "4/4 [==============================] - 0s 5ms/step - loss: 0.3424 - accuracy: 0.9643\n",
            "Epoch 100/100\n",
            "4/4 [==============================] - 0s 4ms/step - loss: 0.3373 - accuracy: 0.9643\n",
            "1/1 [==============================] - 0s 102ms/step\n",
            "[0 1]\n",
            "2/2 [==============================] - 0s 8ms/step - loss: 0.3506 - accuracy: 0.9474\n",
            "Test accuracy: 0.9473684430122375\n"
          ]
        }
      ]
    },
    {
      "cell_type": "markdown",
      "source": [
        "**CNN model**"
      ],
      "metadata": {
        "id": "Ws8gzlpLDEtb"
      }
    },
    {
      "cell_type": "markdown",
      "source": [
        "1. Importing Libraries:"
      ],
      "metadata": {
        "id": "W4MizcxUDyt1"
      }
    },
    {
      "cell_type": "code",
      "source": [
        "import tensorflow as tf\n",
        "# import tensorflow.keras as layers\n",
        "import numpy as np\n",
        "from tensorflow.keras.layers import Conv2D"
      ],
      "metadata": {
        "id": "JOWKNg28Z9xq"
      },
      "execution_count": null,
      "outputs": []
    },
    {
      "cell_type": "code",
      "source": [
        "import tensorflow as tf\n",
        "print(tf.__version__)"
      ],
      "metadata": {
        "id": "WVtqlkF2B6AO",
        "outputId": "c89584ad-4eba-4b69-cf74-14d7b456152c",
        "colab": {
          "base_uri": "https://localhost:8080/"
        }
      },
      "execution_count": null,
      "outputs": [
        {
          "output_type": "stream",
          "name": "stdout",
          "text": [
            "2.15.0\n"
          ]
        }
      ]
    },
    {
      "cell_type": "markdown",
      "source": [
        "**2. Defining the Model Architecture:**\n",
        "\n",
        "**Sequential model:** A basic way to stack layers linearly.\n",
        "\n",
        "**Convolutional layers:**\n",
        "Extract features from images using small filters (like pixel detectors).\n",
        "Learn to recognize patterns like edges, shapes, textures.\n",
        "\n",
        "**Pooling layers:**\n",
        "Downsample the feature maps to reduce complexity and focus on important features.\n",
        "\n",
        "**Flatten layer:**\n",
        "Converts multidimensional feature maps into a single vector for further processing.\n",
        "\n",
        "**Dense layers:**\n",
        "Fully connected layers that combine features from previous layers and make final predictions."
      ],
      "metadata": {
        "id": "SGMRk-l2EaBL"
      }
    },
    {
      "cell_type": "code",
      "source": [
        "###\n",
        "model = Sequential()\n",
        "model.add(Conv2D(32, kernel_size = (2,2), strides = (1,1), padding = 'same', activation = 'relu', input_shape = input_shape))\n",
        "model.add(Conv2D(64, kernel_size = (2,2), strides = (1,1), padding = 'same', activation = 'relu', input_shape = input_shape))\n",
        "model.add(MaxPooling2D(pool_size = (2,2), strides = (1,1)))\n",
        "model.add(Flatten())\n",
        "model.add(Dense(64,activation = 'relu'))\n",
        "model.add(Dense(1))\n",
        "model.summary()\n",
        "###"
      ],
      "metadata": {
        "id": "L7KGd6P1L5pr"
      },
      "execution_count": null,
      "outputs": []
    },
    {
      "cell_type": "code",
      "source": [
        "model = Sequential()\n",
        "model.add(Con2D(32, kernel_size = (3,3)))\n",
        "    layers.Conv2D(32, (3, 3), activation='relu', input_shape=(28, 28, 1)),  # Example for image input\n",
        "    layers.MaxPooling2D((2, 2)),\n",
        "    layers.Flatten(),\n",
        "    layers.Dense(128, activation='relu'),\n",
        "    layers.Dense(10, activation='softmax')  # Final layer for 10 classes\n",
        "])\n"
      ],
      "metadata": {
        "id": "ToT5iIKUE5IN",
        "outputId": "c99ae171-330b-46ec-b0f3-879db59d2ad9",
        "colab": {
          "base_uri": "https://localhost:8080/",
          "height": 242
        }
      },
      "execution_count": null,
      "outputs": [
        {
          "output_type": "error",
          "ename": "AttributeError",
          "evalue": "module 'tensorflow.keras' has no attribute 'Conv2D'",
          "traceback": [
            "\u001b[0;31m---------------------------------------------------------------------------\u001b[0m",
            "\u001b[0;31mAttributeError\u001b[0m                            Traceback (most recent call last)",
            "\u001b[0;32m<ipython-input-12-e2674aee0587>\u001b[0m in \u001b[0;36m<cell line: 1>\u001b[0;34m()\u001b[0m\n\u001b[1;32m      1\u001b[0m model = tf.keras.Sequential([\n\u001b[0;32m----> 2\u001b[0;31m     \u001b[0mlayers\u001b[0m\u001b[0;34m.\u001b[0m\u001b[0mConv2D\u001b[0m\u001b[0;34m(\u001b[0m\u001b[0;36m32\u001b[0m\u001b[0;34m,\u001b[0m \u001b[0;34m(\u001b[0m\u001b[0;36m3\u001b[0m\u001b[0;34m,\u001b[0m \u001b[0;36m3\u001b[0m\u001b[0;34m)\u001b[0m\u001b[0;34m,\u001b[0m \u001b[0mactivation\u001b[0m\u001b[0;34m=\u001b[0m\u001b[0;34m'relu'\u001b[0m\u001b[0;34m,\u001b[0m \u001b[0minput_shape\u001b[0m\u001b[0;34m=\u001b[0m\u001b[0;34m(\u001b[0m\u001b[0;36m28\u001b[0m\u001b[0;34m,\u001b[0m \u001b[0;36m28\u001b[0m\u001b[0;34m,\u001b[0m \u001b[0;36m1\u001b[0m\u001b[0;34m)\u001b[0m\u001b[0;34m)\u001b[0m\u001b[0;34m,\u001b[0m  \u001b[0;31m# Example for image input\u001b[0m\u001b[0;34m\u001b[0m\u001b[0;34m\u001b[0m\u001b[0m\n\u001b[0m\u001b[1;32m      3\u001b[0m     \u001b[0mlayers\u001b[0m\u001b[0;34m.\u001b[0m\u001b[0mMaxPooling2D\u001b[0m\u001b[0;34m(\u001b[0m\u001b[0;34m(\u001b[0m\u001b[0;36m2\u001b[0m\u001b[0;34m,\u001b[0m \u001b[0;36m2\u001b[0m\u001b[0;34m)\u001b[0m\u001b[0;34m)\u001b[0m\u001b[0;34m,\u001b[0m\u001b[0;34m\u001b[0m\u001b[0;34m\u001b[0m\u001b[0m\n\u001b[1;32m      4\u001b[0m     \u001b[0mlayers\u001b[0m\u001b[0;34m.\u001b[0m\u001b[0mFlatten\u001b[0m\u001b[0;34m(\u001b[0m\u001b[0;34m)\u001b[0m\u001b[0;34m,\u001b[0m\u001b[0;34m\u001b[0m\u001b[0;34m\u001b[0m\u001b[0m\n\u001b[1;32m      5\u001b[0m     \u001b[0mlayers\u001b[0m\u001b[0;34m.\u001b[0m\u001b[0mDense\u001b[0m\u001b[0;34m(\u001b[0m\u001b[0;36m128\u001b[0m\u001b[0;34m,\u001b[0m \u001b[0mactivation\u001b[0m\u001b[0;34m=\u001b[0m\u001b[0;34m'relu'\u001b[0m\u001b[0;34m)\u001b[0m\u001b[0;34m,\u001b[0m\u001b[0;34m\u001b[0m\u001b[0;34m\u001b[0m\u001b[0m\n",
            "\u001b[0;31mAttributeError\u001b[0m: module 'tensorflow.keras' has no attribute 'Conv2D'"
          ]
        }
      ]
    },
    {
      "cell_type": "markdown",
      "source": [
        "[Image of a CNN model block diagram with the following layers:\n",
        "\n",
        "Input layer (28x28x1)\n",
        "\n",
        "Convolutional layer (32 filters, 3x3 kernel, ReLU activation)\n",
        "\n",
        "Max pooling layer (2x2 pool size)\n",
        "\n",
        "Flatten layer\n",
        "\n",
        "Dense layer (128 neurons, ReLU activation)\n",
        "\n",
        "Dense layer (10 neurons, softmax activation)\n",
        "\n",
        " Arrows flow from left to right, indicating the direction of data flow through the layers.]"
      ],
      "metadata": {
        "id": "D6qNUzuIOUbY"
      }
    },
    {
      "cell_type": "markdown",
      "source": [
        "See below website to understand Blockdiagram of CNN, Flatten, Pooling, and Kernel:\n",
        "\n",
        "Block diagram: https://www.youtube.com/watch?v=F5uuSNIov5I\n",
        "\n",
        "Filter and Kernel: https://www.youtube.com/watch?v=IkCI4XzCyMc\n",
        "\n",
        "Flattening: https://www.youtube.com/watch?v=MFpJd7S98_A\n",
        "\n",
        "Padding : https://www.youtube.com/watch?v=olorbgCHAZ8\n",
        "\n",
        "Stride: https://www.youtube.com/watch?v=lUnpImU3gHU\n",
        "\n",
        "\n",
        "To get more videoes look at youtube channel: https://www.youtube.com/@moeininstructor/videos"
      ],
      "metadata": {
        "id": "pBm1RuMqOmH3"
      }
    },
    {
      "cell_type": "markdown",
      "source": [
        "**3. Compiling the Model:**\n",
        "\n",
        "**Specify optimizer: **Algorithm for updating model weights during training (e.g., Adam).\n",
        "\n",
        "**Specify loss function:** Measures how well the model's predictions match the true labels (e.g., categorical crossentropy).\n",
        "\n",
        "**Specify metrics: **Track model performance during training and evaluation (e.g., accuracy)."
      ],
      "metadata": {
        "id": "ETW1cbjNP4rq"
      }
    },
    {
      "cell_type": "code",
      "source": [
        "model.compile(optimizer='adam',\n",
        "              loss='categorical_crossentropy',\n",
        "              metrics=['accuracy'])\n"
      ],
      "metadata": {
        "id": "4PArJEYmPtBG",
        "outputId": "ec896175-4ff2-403c-d8dd-e4609a3f2199",
        "colab": {
          "base_uri": "https://localhost:8080/",
          "height": 208
        }
      },
      "execution_count": null,
      "outputs": [
        {
          "output_type": "error",
          "ename": "NameError",
          "evalue": "name 'model' is not defined",
          "traceback": [
            "\u001b[0;31m---------------------------------------------------------------------------\u001b[0m",
            "\u001b[0;31mNameError\u001b[0m                                 Traceback (most recent call last)",
            "\u001b[0;32m<ipython-input-3-15906a4225ea>\u001b[0m in \u001b[0;36m<cell line: 1>\u001b[0;34m()\u001b[0m\n\u001b[0;32m----> 1\u001b[0;31m model.compile(optimizer='adam',\n\u001b[0m\u001b[1;32m      2\u001b[0m               \u001b[0mloss\u001b[0m\u001b[0;34m=\u001b[0m\u001b[0;34m'categorical_crossentropy'\u001b[0m\u001b[0;34m,\u001b[0m\u001b[0;34m\u001b[0m\u001b[0;34m\u001b[0m\u001b[0m\n\u001b[1;32m      3\u001b[0m               metrics=['accuracy'])\n",
            "\u001b[0;31mNameError\u001b[0m: name 'model' is not defined"
          ]
        }
      ]
    }
  ]
}